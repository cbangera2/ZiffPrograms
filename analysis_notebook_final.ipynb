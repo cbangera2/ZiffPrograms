{
  "cells": [
    {
      "cell_type": "code",
      "execution_count": null,
      "id": "9672e7ac",
      "metadata": {
        "id": "9672e7ac"
      },
      "outputs": [],
      "source": [
        "import pandas as pd\n",
        "import matplotlib.pyplot as plt\n",
        "import numpy as np\n",
        "from io import StringIO"
      ]
    },
    {
      "cell_type": "code",
      "execution_count": null,
      "id": "7c62518e",
      "metadata": {
        "id": "7c62518e"
      },
      "outputs": [],
      "source": [
        "s = \"\"\"\n",
        "         0     1654480  2.4750354243e-01  2.4737389186e-01               nan\n",
        "         1      887952  1.3283404182e-01  3.4960079200e-01               nan\n",
        "         2      518456  7.7558928845e-02  2.4291642569e-01               nan\n",
        "         3      315321  4.7170751235e-02  1.1061849424e-01               nan\n",
        "         4      198894  2.9753741096e-02  3.7127496944e-02               nan\n",
        "         5      138321  2.0692264332e-02  9.7946923404e-03               nan\n",
        "         6      112245  1.6791399787e-02  2.1147158225e-03               nan\n",
        "         7      101856  1.5237247243e-02  3.8425923321e-04               nan\n",
        "         8       97414  1.4572741939e-02  5.9972908493e-05               nan\n",
        "         9       94952  1.4204436657e-02  8.1612340075e-06               nan\n",
        "        10       92441  1.3828801174e-02  9.8127739220e-07               nan\n",
        "        11       90773  1.3579275094e-02  1.0551563092e-07               nan\n",
        "        12       87945  1.3156217687e-02  9.5929970750e-09               nan\n",
        "        13       84931  1.2705335430e-02  1.3353158452e-09               nan\n",
        "        14       82284  1.2309354894e-02  0.0000000000e+00               nan\n",
        "        15       79037  1.1823616776e-02  0.0000000000e+00               nan\n",
        "        16       75704  1.1325013404e-02  0.0000000000e+00               nan\n",
        "        17     1971666  2.9495329015e-01  0.0000000000e+00               nan\n",
        "\"\"\""
      ]
    },
    {
      "cell_type": "code",
      "execution_count": null,
      "id": "a0694e0c",
      "metadata": {
        "colab": {
          "base_uri": "https://localhost:8080/"
        },
        "id": "a0694e0c",
        "outputId": "7b2bc217-5593-4343-ab0b-ec396dd411ce"
      },
      "outputs": [
        {
          "output_type": "stream",
          "name": "stderr",
          "text": [
            "/usr/local/lib/python3.7/dist-packages/pandas/util/_decorators.py:311: ParserWarning: Falling back to the 'python' engine because the 'c' engine does not support regex separators (separators > 1 char and different from '\\s+' are interpreted as regex); you can avoid this warning by specifying engine='python'.\n",
            "  return func(*args, **kwargs)\n"
          ]
        }
      ],
      "source": [
        "df = pd.read_csv(StringIO(s), sep=r\"\\s\\s+\", header=None, names=[\"bin\", \"n\", \"n/runs\", \"_\", \"_2\", \"_3\"])"
      ]
    },
    {
      "cell_type": "code",
      "execution_count": null,
      "id": "8b4d6b68",
      "metadata": {
        "id": "8b4d6b68"
      },
      "outputs": [],
      "source": [
        "sigma = 36/91\n",
        "#sigma = -1\n",
        "tau = 187/91"
      ]
    },
    {
      "cell_type": "code",
      "execution_count": null,
      "id": "877c4d26",
      "metadata": {
        "id": "877c4d26"
      },
      "outputs": [],
      "source": [
        "df[\"s_sigma\"] = (2.0 ** (df[\"bin\"] * sigma))\n",
        "df[\"cumulative_nruns\"] = df[\"n/runs\"][::-1].cumsum()[::-1]\n",
        "df[\"s_tau_p\"] = df[\"cumulative_nruns\"] * ((2.0 ** df[\"bin\"]) ** (tau - 2))"
      ]
    },
    {
      "cell_type": "code",
      "execution_count": null,
      "id": "9570aec6",
      "metadata": {
        "colab": {
          "base_uri": "https://localhost:8080/",
          "height": 206
        },
        "id": "9570aec6",
        "outputId": "98378a0d-ff28-4998-8b37-db4aef4ab1a2"
      },
      "outputs": [
        {
          "output_type": "execute_result",
          "data": {
            "text/plain": [
              "   bin        n    n/runs         _  _2  _3   s_sigma  cumulative_nruns  \\\n",
              "0    0  1654480  0.247504  0.247374 NaN NaN  1.000000          1.000000   \n",
              "1    1   887952  0.132834  0.349601 NaN NaN  1.315494          0.752496   \n",
              "2    2   518456  0.077559  0.242916 NaN NaN  1.730524          0.619662   \n",
              "3    3   315321  0.047171  0.110618 NaN NaN  2.276493          0.542103   \n",
              "4    4   198894  0.029754  0.037127 NaN NaN  2.994713          0.494933   \n",
              "\n",
              "    s_tau_p  \n",
              "0  1.000000  \n",
              "1  0.781708  \n",
              "2  0.668706  \n",
              "3  0.607719  \n",
              "4  0.576377  "
            ],
            "text/html": [
              "\n",
              "  <div id=\"df-0f7659d5-d463-46f4-8c60-50c0ed8b410e\">\n",
              "    <div class=\"colab-df-container\">\n",
              "      <div>\n",
              "<style scoped>\n",
              "    .dataframe tbody tr th:only-of-type {\n",
              "        vertical-align: middle;\n",
              "    }\n",
              "\n",
              "    .dataframe tbody tr th {\n",
              "        vertical-align: top;\n",
              "    }\n",
              "\n",
              "    .dataframe thead th {\n",
              "        text-align: right;\n",
              "    }\n",
              "</style>\n",
              "<table border=\"1\" class=\"dataframe\">\n",
              "  <thead>\n",
              "    <tr style=\"text-align: right;\">\n",
              "      <th></th>\n",
              "      <th>bin</th>\n",
              "      <th>n</th>\n",
              "      <th>n/runs</th>\n",
              "      <th>_</th>\n",
              "      <th>_2</th>\n",
              "      <th>_3</th>\n",
              "      <th>s_sigma</th>\n",
              "      <th>cumulative_nruns</th>\n",
              "      <th>s_tau_p</th>\n",
              "    </tr>\n",
              "  </thead>\n",
              "  <tbody>\n",
              "    <tr>\n",
              "      <th>0</th>\n",
              "      <td>0</td>\n",
              "      <td>1654480</td>\n",
              "      <td>0.247504</td>\n",
              "      <td>0.247374</td>\n",
              "      <td>NaN</td>\n",
              "      <td>NaN</td>\n",
              "      <td>1.000000</td>\n",
              "      <td>1.000000</td>\n",
              "      <td>1.000000</td>\n",
              "    </tr>\n",
              "    <tr>\n",
              "      <th>1</th>\n",
              "      <td>1</td>\n",
              "      <td>887952</td>\n",
              "      <td>0.132834</td>\n",
              "      <td>0.349601</td>\n",
              "      <td>NaN</td>\n",
              "      <td>NaN</td>\n",
              "      <td>1.315494</td>\n",
              "      <td>0.752496</td>\n",
              "      <td>0.781708</td>\n",
              "    </tr>\n",
              "    <tr>\n",
              "      <th>2</th>\n",
              "      <td>2</td>\n",
              "      <td>518456</td>\n",
              "      <td>0.077559</td>\n",
              "      <td>0.242916</td>\n",
              "      <td>NaN</td>\n",
              "      <td>NaN</td>\n",
              "      <td>1.730524</td>\n",
              "      <td>0.619662</td>\n",
              "      <td>0.668706</td>\n",
              "    </tr>\n",
              "    <tr>\n",
              "      <th>3</th>\n",
              "      <td>3</td>\n",
              "      <td>315321</td>\n",
              "      <td>0.047171</td>\n",
              "      <td>0.110618</td>\n",
              "      <td>NaN</td>\n",
              "      <td>NaN</td>\n",
              "      <td>2.276493</td>\n",
              "      <td>0.542103</td>\n",
              "      <td>0.607719</td>\n",
              "    </tr>\n",
              "    <tr>\n",
              "      <th>4</th>\n",
              "      <td>4</td>\n",
              "      <td>198894</td>\n",
              "      <td>0.029754</td>\n",
              "      <td>0.037127</td>\n",
              "      <td>NaN</td>\n",
              "      <td>NaN</td>\n",
              "      <td>2.994713</td>\n",
              "      <td>0.494933</td>\n",
              "      <td>0.576377</td>\n",
              "    </tr>\n",
              "  </tbody>\n",
              "</table>\n",
              "</div>\n",
              "      <button class=\"colab-df-convert\" onclick=\"convertToInteractive('df-0f7659d5-d463-46f4-8c60-50c0ed8b410e')\"\n",
              "              title=\"Convert this dataframe to an interactive table.\"\n",
              "              style=\"display:none;\">\n",
              "        \n",
              "  <svg xmlns=\"http://www.w3.org/2000/svg\" height=\"24px\"viewBox=\"0 0 24 24\"\n",
              "       width=\"24px\">\n",
              "    <path d=\"M0 0h24v24H0V0z\" fill=\"none\"/>\n",
              "    <path d=\"M18.56 5.44l.94 2.06.94-2.06 2.06-.94-2.06-.94-.94-2.06-.94 2.06-2.06.94zm-11 1L8.5 8.5l.94-2.06 2.06-.94-2.06-.94L8.5 2.5l-.94 2.06-2.06.94zm10 10l.94 2.06.94-2.06 2.06-.94-2.06-.94-.94-2.06-.94 2.06-2.06.94z\"/><path d=\"M17.41 7.96l-1.37-1.37c-.4-.4-.92-.59-1.43-.59-.52 0-1.04.2-1.43.59L10.3 9.45l-7.72 7.72c-.78.78-.78 2.05 0 2.83L4 21.41c.39.39.9.59 1.41.59.51 0 1.02-.2 1.41-.59l7.78-7.78 2.81-2.81c.8-.78.8-2.07 0-2.86zM5.41 20L4 18.59l7.72-7.72 1.47 1.35L5.41 20z\"/>\n",
              "  </svg>\n",
              "      </button>\n",
              "      \n",
              "  <style>\n",
              "    .colab-df-container {\n",
              "      display:flex;\n",
              "      flex-wrap:wrap;\n",
              "      gap: 12px;\n",
              "    }\n",
              "\n",
              "    .colab-df-convert {\n",
              "      background-color: #E8F0FE;\n",
              "      border: none;\n",
              "      border-radius: 50%;\n",
              "      cursor: pointer;\n",
              "      display: none;\n",
              "      fill: #1967D2;\n",
              "      height: 32px;\n",
              "      padding: 0 0 0 0;\n",
              "      width: 32px;\n",
              "    }\n",
              "\n",
              "    .colab-df-convert:hover {\n",
              "      background-color: #E2EBFA;\n",
              "      box-shadow: 0px 1px 2px rgba(60, 64, 67, 0.3), 0px 1px 3px 1px rgba(60, 64, 67, 0.15);\n",
              "      fill: #174EA6;\n",
              "    }\n",
              "\n",
              "    [theme=dark] .colab-df-convert {\n",
              "      background-color: #3B4455;\n",
              "      fill: #D2E3FC;\n",
              "    }\n",
              "\n",
              "    [theme=dark] .colab-df-convert:hover {\n",
              "      background-color: #434B5C;\n",
              "      box-shadow: 0px 1px 3px 1px rgba(0, 0, 0, 0.15);\n",
              "      filter: drop-shadow(0px 1px 2px rgba(0, 0, 0, 0.3));\n",
              "      fill: #FFFFFF;\n",
              "    }\n",
              "  </style>\n",
              "\n",
              "      <script>\n",
              "        const buttonEl =\n",
              "          document.querySelector('#df-0f7659d5-d463-46f4-8c60-50c0ed8b410e button.colab-df-convert');\n",
              "        buttonEl.style.display =\n",
              "          google.colab.kernel.accessAllowed ? 'block' : 'none';\n",
              "\n",
              "        async function convertToInteractive(key) {\n",
              "          const element = document.querySelector('#df-0f7659d5-d463-46f4-8c60-50c0ed8b410e');\n",
              "          const dataTable =\n",
              "            await google.colab.kernel.invokeFunction('convertToInteractive',\n",
              "                                                     [key], {});\n",
              "          if (!dataTable) return;\n",
              "\n",
              "          const docLinkHtml = 'Like what you see? Visit the ' +\n",
              "            '<a target=\"_blank\" href=https://colab.research.google.com/notebooks/data_table.ipynb>data table notebook</a>'\n",
              "            + ' to learn more about interactive tables.';\n",
              "          element.innerHTML = '';\n",
              "          dataTable['output_type'] = 'display_data';\n",
              "          await google.colab.output.renderOutput(dataTable, element);\n",
              "          const docLink = document.createElement('div');\n",
              "          docLink.innerHTML = docLinkHtml;\n",
              "          element.appendChild(docLink);\n",
              "        }\n",
              "      </script>\n",
              "    </div>\n",
              "  </div>\n",
              "  "
            ]
          },
          "metadata": {},
          "execution_count": 45
        }
      ],
      "source": [
        "df.head()"
      ]
    },
    {
      "cell_type": "code",
      "execution_count": null,
      "id": "d6609f16",
      "metadata": {
        "colab": {
          "base_uri": "https://localhost:8080/",
          "height": 360
        },
        "id": "d6609f16",
        "outputId": "11c50469-08a2-4220-8b1e-518e0ca0cc07"
      },
      "outputs": [
        {
          "output_type": "execute_result",
          "data": {
            "text/plain": [
              "Text(0, 0.5, '$s^{\\\\tau - 2} P_{\\\\geq s}$')"
            ]
          },
          "metadata": {},
          "execution_count": 46
        },
        {
          "output_type": "display_data",
          "data": {
            "text/plain": [
              "<Figure size 720x360 with 1 Axes>"
            ],
            "image/png": "[encoded data removed]"
          },
          "metadata": {
            "needs_background": "light"
          }
        }
      ],
      "source": [
        "plt.figure(figsize=(10,5))\n",
        "plt.scatter(df[\"s_sigma\"], df[\"s_tau_p\"], color='navy', marker='.')\n",
        "plt.xlabel(r\"$s^{\\sigma}$\", fontsize=18)\n",
        "plt.ylabel(r\"$s^{\\tau - 2} P_{\\geq s}$\", fontsize=18)"
      ]
    },
    {
      "cell_type": "code",
      "execution_count": null,
      "id": "c3ec89d2",
      "metadata": {
        "id": "c3ec89d2"
      },
      "outputs": [],
      "source": [
        "el = 5 #number of points to remove\n",
        "regs = 4 #last BLANK points ot include in linear regression\n",
        "from statsmodels.regression.linear_model import OLS"
      ]
    },
    {
      "cell_type": "code",
      "execution_count": null,
      "id": "888fd152",
      "metadata": {
        "id": "888fd152"
      },
      "outputs": [],
      "source": [
        "mod = OLS.from_formula(\"s_tau_p~s_sigma\", data=df[-regs:]).fit()"
      ]
    },
    {
      "cell_type": "code",
      "execution_count": null,
      "id": "ba1d3b79",
      "metadata": {
        "colab": {
          "base_uri": "https://localhost:8080/",
          "height": 507
        },
        "id": "ba1d3b79",
        "outputId": "d7f760ef-be68-4d9a-b240-2527d8f9b355"
      },
      "outputs": [
        {
          "output_type": "stream",
          "name": "stderr",
          "text": [
            "/usr/local/lib/python3.7/dist-packages/statsmodels/stats/stattools.py:71: ValueWarning: omni_normtest is not valid with less than 8 observations; 4 samples were given.\n",
            "  \"samples were given.\" % int(n), ValueWarning)\n"
          ]
        },
        {
          "output_type": "execute_result",
          "data": {
            "text/plain": [
              "<class 'statsmodels.iolib.summary.Summary'>\n",
              "\"\"\"\n",
              "                            OLS Regression Results                            \n",
              "==============================================================================\n",
              "Dep. Variable:                s_tau_p   R-squared:                       0.979\n",
              "Model:                            OLS   Adj. R-squared:                  0.968\n",
              "Method:                 Least Squares   F-statistic:                     92.09\n",
              "Date:                Thu, 07 Apr 2022   Prob (F-statistic):             0.0107\n",
              "Time:                        21:07:59   Log-Likelihood:                 37.057\n",
              "No. Observations:                   4   AIC:                            -70.11\n",
              "Df Residuals:                       2   BIC:                            -71.34\n",
              "Df Model:                           1                                         \n",
              "Covariance Type:            nonrobust                                         \n",
              "==============================================================================\n",
              "                 coef    std err          t      P>|t|      [0.025      0.975]\n",
              "------------------------------------------------------------------------------\n",
              "Intercept      0.5628    5.6e-05      1e+04      0.000       0.563       0.563\n",
              "s_sigma     7.002e-06    7.3e-07      9.596      0.011    3.86e-06    1.01e-05\n",
              "==============================================================================\n",
              "Omnibus:                          nan   Durbin-Watson:                   2.061\n",
              "Prob(Omnibus):                    nan   Jarque-Bera (JB):                0.515\n",
              "Skew:                          -0.226   Prob(JB):                        0.773\n",
              "Kurtosis:                       1.302   Cond. No.                         265.\n",
              "==============================================================================\n",
              "\n",
              "Warnings:\n",
              "[1] Standard Errors assume that the covariance matrix of the errors is correctly specified.\n",
              "\"\"\""
            ],
            "text/html": [
              "<table class=\"simpletable\">\n",
              "<caption>OLS Regression Results</caption>\n",
              "<tr>\n",
              "  <th>Dep. Variable:</th>         <td>s_tau_p</td>     <th>  R-squared:         </th> <td>   0.979</td>\n",
              "</tr>\n",
              "<tr>\n",
              "  <th>Model:</th>                   <td>OLS</td>       <th>  Adj. R-squared:    </th> <td>   0.968</td>\n",
              "</tr>\n",
              "<tr>\n",
              "  <th>Method:</th>             <td>Least Squares</td>  <th>  F-statistic:       </th> <td>   92.09</td>\n",
              "</tr>\n",
              "<tr>\n",
              "  <th>Date:</th>             <td>Thu, 07 Apr 2022</td> <th>  Prob (F-statistic):</th>  <td>0.0107</td> \n",
              "</tr>\n",
              "<tr>\n",
              "  <th>Time:</th>                 <td>21:07:59</td>     <th>  Log-Likelihood:    </th> <td>  37.057</td>\n",
              "</tr>\n",
              "<tr>\n",
              "  <th>No. Observations:</th>      <td>     4</td>      <th>  AIC:               </th> <td>  -70.11</td>\n",
              "</tr>\n",
              "<tr>\n",
              "  <th>Df Residuals:</th>          <td>     2</td>      <th>  BIC:               </th> <td>  -71.34</td>\n",
              "</tr>\n",
              "<tr>\n",
              "  <th>Df Model:</th>              <td>     1</td>      <th>                     </th>     <td> </td>   \n",
              "</tr>\n",
              "<tr>\n",
              "  <th>Covariance Type:</th>      <td>nonrobust</td>    <th>                     </th>     <td> </td>   \n",
              "</tr>\n",
              "</table>\n",
              "<table class=\"simpletable\">\n",
              "<tr>\n",
              "      <td></td>         <th>coef</th>     <th>std err</th>      <th>t</th>      <th>P>|t|</th>  <th>[0.025</th>    <th>0.975]</th>  \n",
              "</tr>\n",
              "<tr>\n",
              "  <th>Intercept</th> <td>    0.5628</td> <td>  5.6e-05</td> <td>    1e+04</td> <td> 0.000</td> <td>    0.563</td> <td>    0.563</td>\n",
              "</tr>\n",
              "<tr>\n",
              "  <th>s_sigma</th>   <td> 7.002e-06</td> <td>  7.3e-07</td> <td>    9.596</td> <td> 0.011</td> <td> 3.86e-06</td> <td> 1.01e-05</td>\n",
              "</tr>\n",
              "</table>\n",
              "<table class=\"simpletable\">\n",
              "<tr>\n",
              "  <th>Omnibus:</th>       <td>   nan</td> <th>  Durbin-Watson:     </th> <td>   2.061</td>\n",
              "</tr>\n",
              "<tr>\n",
              "  <th>Prob(Omnibus):</th> <td>   nan</td> <th>  Jarque-Bera (JB):  </th> <td>   0.515</td>\n",
              "</tr>\n",
              "<tr>\n",
              "  <th>Skew:</th>          <td>-0.226</td> <th>  Prob(JB):          </th> <td>   0.773</td>\n",
              "</tr>\n",
              "<tr>\n",
              "  <th>Kurtosis:</th>      <td> 1.302</td> <th>  Cond. No.          </th> <td>    265.</td>\n",
              "</tr>\n",
              "</table><br/><br/>Warnings:<br/>[1] Standard Errors assume that the covariance matrix of the errors is correctly specified."
            ]
          },
          "metadata": {},
          "execution_count": 55
        }
      ],
      "source": [
        "mod.summary()"
      ]
    },
    {
      "cell_type": "code",
      "execution_count": null,
      "id": "2707f761",
      "metadata": {
        "colab": {
          "base_uri": "https://localhost:8080/"
        },
        "id": "2707f761",
        "outputId": "c041d235-3dc8-46a6-a054-b0d7d3d6dd1e"
      },
      "outputs": [
        {
          "output_type": "execute_result",
          "data": {
            "text/plain": [
              "-6.661338147750939e-16"
            ]
          },
          "metadata": {},
          "execution_count": 50
        }
      ],
      "source": [
        "np.sum(mod.resid)"
      ]
    },
    {
      "cell_type": "code",
      "execution_count": null,
      "id": "8aa9be92",
      "metadata": {
        "id": "8aa9be92"
      },
      "outputs": [],
      "source": [
        "x_inter = np.arange(df['s_sigma'].min(), df['s_sigma'].max(), 0.5)\n",
        "y_inter = mod.params.s_sigma * x_inter + mod.params.Intercept"
      ]
    },
    {
      "cell_type": "code",
      "execution_count": null,
      "id": "94f970c6",
      "metadata": {
        "colab": {
          "base_uri": "https://localhost:8080/",
          "height": 342
        },
        "id": "94f970c6",
        "outputId": "91044879-974c-47ca-dd4e-c3c79ff22d8c"
      },
      "outputs": [
        {
          "output_type": "display_data",
          "data": {
            "text/plain": [
              "<Figure size 720x360 with 1 Axes>"
            ],
            "image/png": "[encoded data removed]"
          },
          "metadata": {
            "needs_background": "light"
          }
        }
      ],
      "source": [
        "plt.figure(figsize=(10,5))\n",
        "plt.scatter(df[\"s_sigma\"][el:], df[\"s_tau_p\"][el:], color='navy', marker='.')\n",
        "plt.plot(x_inter, y_inter, linestyle='dotted', color='red')\n",
        "plt.xlabel(r\"$s^{\\sigma}$\", fontsize=18)\n",
        "plt.ylabel(r\"$s^{\\tau - 2} P_{\\geq s}$\", fontsize=18)\n",
        "plt.savefig(\"output.eps\")"
      ]
    }
  ],
  "metadata": {
    "kernelspec": {
      "display_name": "Python 3 (ipykernel)",
      "language": "python",
      "name": "python3"
    },
    "language_info": {
      "codemirror_mode": {
        "name": "ipython",
        "version": 3
      },
      "file_extension": ".py",
      "mimetype": "text/x-python",
      "name": "python",
      "nbconvert_exporter": "python",
      "pygments_lexer": "ipython3",
      "version": "3.9.7"
    },
    "colab": {
      "name": "analysis_notebook_final.ipynb",
      "provenance": []
    }
  },
  "nbformat": 4,
  "nbformat_minor": 5
}